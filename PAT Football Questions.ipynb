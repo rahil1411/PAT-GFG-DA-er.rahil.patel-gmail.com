{
 "cells": [
  {
   "cell_type": "code",
   "execution_count": 1,
   "id": "0a3c9780",
   "metadata": {},
   "outputs": [],
   "source": [
    "import pandas as pd\n",
    "import numpy as np\n",
    "import seaborn as sns\n",
    "import matplotlib.pyplot as plt\n",
    "%matplotlib inline"
   ]
  },
  {
   "cell_type": "code",
   "execution_count": 2,
   "id": "553d4dc0",
   "metadata": {},
   "outputs": [],
   "source": [
    "pd.set_option('display.max_columns', None)"
   ]
  },
  {
   "cell_type": "code",
   "execution_count": 3,
   "id": "a72e9307",
   "metadata": {
    "scrolled": true
   },
   "outputs": [
    {
     "data": {
      "text/html": [
       "<div>\n",
       "<style scoped>\n",
       "    .dataframe tbody tr th:only-of-type {\n",
       "        vertical-align: middle;\n",
       "    }\n",
       "\n",
       "    .dataframe tbody tr th {\n",
       "        vertical-align: top;\n",
       "    }\n",
       "\n",
       "    .dataframe thead th {\n",
       "        text-align: right;\n",
       "    }\n",
       "</style>\n",
       "<table border=\"1\" class=\"dataframe\">\n",
       "  <thead>\n",
       "    <tr style=\"text-align: right;\">\n",
       "      <th></th>\n",
       "      <th>Country</th>\n",
       "      <th>League</th>\n",
       "      <th>Club</th>\n",
       "      <th>Player Names</th>\n",
       "      <th>Matches_Played</th>\n",
       "      <th>Substitution</th>\n",
       "      <th>Mins</th>\n",
       "      <th>Goals</th>\n",
       "      <th>xG</th>\n",
       "      <th>xG Per Avg Match</th>\n",
       "      <th>Shots</th>\n",
       "      <th>OnTarget</th>\n",
       "      <th>Shots Per Avg Match</th>\n",
       "      <th>On Target Per Avg Match</th>\n",
       "      <th>Year</th>\n",
       "    </tr>\n",
       "  </thead>\n",
       "  <tbody>\n",
       "    <tr>\n",
       "      <th>0</th>\n",
       "      <td>Spain</td>\n",
       "      <td>La Liga</td>\n",
       "      <td>(BET)</td>\n",
       "      <td>Juanmi Callejon</td>\n",
       "      <td>19</td>\n",
       "      <td>16</td>\n",
       "      <td>1849</td>\n",
       "      <td>11</td>\n",
       "      <td>6.62</td>\n",
       "      <td>0.34</td>\n",
       "      <td>48</td>\n",
       "      <td>20</td>\n",
       "      <td>2.47</td>\n",
       "      <td>1.03</td>\n",
       "      <td>2016</td>\n",
       "    </tr>\n",
       "    <tr>\n",
       "      <th>1</th>\n",
       "      <td>Spain</td>\n",
       "      <td>La Liga</td>\n",
       "      <td>(BAR)</td>\n",
       "      <td>Antoine Griezmann</td>\n",
       "      <td>36</td>\n",
       "      <td>0</td>\n",
       "      <td>3129</td>\n",
       "      <td>16</td>\n",
       "      <td>11.86</td>\n",
       "      <td>0.36</td>\n",
       "      <td>88</td>\n",
       "      <td>41</td>\n",
       "      <td>2.67</td>\n",
       "      <td>1.24</td>\n",
       "      <td>2016</td>\n",
       "    </tr>\n",
       "    <tr>\n",
       "      <th>2</th>\n",
       "      <td>Spain</td>\n",
       "      <td>La Liga</td>\n",
       "      <td>(ATL)</td>\n",
       "      <td>Luis Suarez</td>\n",
       "      <td>34</td>\n",
       "      <td>1</td>\n",
       "      <td>2940</td>\n",
       "      <td>28</td>\n",
       "      <td>23.21</td>\n",
       "      <td>0.75</td>\n",
       "      <td>120</td>\n",
       "      <td>57</td>\n",
       "      <td>3.88</td>\n",
       "      <td>1.84</td>\n",
       "      <td>2016</td>\n",
       "    </tr>\n",
       "    <tr>\n",
       "      <th>3</th>\n",
       "      <td>Spain</td>\n",
       "      <td>La Liga</td>\n",
       "      <td>(CAR)</td>\n",
       "      <td>Ruben Castro</td>\n",
       "      <td>32</td>\n",
       "      <td>3</td>\n",
       "      <td>2842</td>\n",
       "      <td>13</td>\n",
       "      <td>14.06</td>\n",
       "      <td>0.47</td>\n",
       "      <td>117</td>\n",
       "      <td>42</td>\n",
       "      <td>3.91</td>\n",
       "      <td>1.40</td>\n",
       "      <td>2016</td>\n",
       "    </tr>\n",
       "    <tr>\n",
       "      <th>4</th>\n",
       "      <td>Spain</td>\n",
       "      <td>La Liga</td>\n",
       "      <td>(VAL)</td>\n",
       "      <td>Kevin Gameiro</td>\n",
       "      <td>21</td>\n",
       "      <td>10</td>\n",
       "      <td>1745</td>\n",
       "      <td>13</td>\n",
       "      <td>10.65</td>\n",
       "      <td>0.58</td>\n",
       "      <td>50</td>\n",
       "      <td>23</td>\n",
       "      <td>2.72</td>\n",
       "      <td>1.25</td>\n",
       "      <td>2016</td>\n",
       "    </tr>\n",
       "  </tbody>\n",
       "</table>\n",
       "</div>"
      ],
      "text/plain": [
       "  Country   League   Club       Player Names  Matches_Played  Substitution   \\\n",
       "0   Spain  La Liga  (BET)    Juanmi Callejon              19             16   \n",
       "1   Spain  La Liga  (BAR)  Antoine Griezmann              36              0   \n",
       "2   Spain  La Liga  (ATL)        Luis Suarez              34              1   \n",
       "3   Spain  La Liga  (CAR)       Ruben Castro              32              3   \n",
       "4   Spain  La Liga  (VAL)      Kevin Gameiro              21             10   \n",
       "\n",
       "   Mins  Goals     xG  xG Per Avg Match  Shots  OnTarget  Shots Per Avg Match  \\\n",
       "0  1849     11   6.62              0.34     48        20                 2.47   \n",
       "1  3129     16  11.86              0.36     88        41                 2.67   \n",
       "2  2940     28  23.21              0.75    120        57                 3.88   \n",
       "3  2842     13  14.06              0.47    117        42                 3.91   \n",
       "4  1745     13  10.65              0.58     50        23                 2.72   \n",
       "\n",
       "   On Target Per Avg Match  Year  \n",
       "0                     1.03  2016  \n",
       "1                     1.24  2016  \n",
       "2                     1.84  2016  \n",
       "3                     1.40  2016  \n",
       "4                     1.25  2016  "
      ]
     },
     "execution_count": 3,
     "metadata": {},
     "output_type": "execute_result"
    }
   ],
   "source": [
    "df=pd.read_csv('soccer.csv')\n",
    "df.head()"
   ]
  },
  {
   "cell_type": "code",
   "execution_count": 4,
   "id": "2f09f1cb",
   "metadata": {},
   "outputs": [
    {
     "data": {
      "text/plain": [
       "(660, 15)"
      ]
     },
     "execution_count": 4,
     "metadata": {},
     "output_type": "execute_result"
    }
   ],
   "source": [
    "df.shape"
   ]
  },
  {
   "cell_type": "code",
   "execution_count": null,
   "id": "63507e7d",
   "metadata": {},
   "outputs": [],
   "source": []
  },
  {
   "cell_type": "markdown",
   "id": "04b22d3a",
   "metadata": {},
   "source": [
    "# Q1: What is the total number of goals scored in the entire dataset?\n",
    "\n",
    "\n"
   ]
  },
  {
   "cell_type": "code",
   "execution_count": 8,
   "id": "d896e0e2",
   "metadata": {},
   "outputs": [
    {
     "data": {
      "text/plain": [
       "7795"
      ]
     },
     "execution_count": 8,
     "metadata": {},
     "output_type": "execute_result"
    }
   ],
   "source": [
    "df['Goals'].sum()"
   ]
  },
  {
   "cell_type": "code",
   "execution_count": null,
   "id": "841615b5",
   "metadata": {},
   "outputs": [],
   "source": []
  },
  {
   "cell_type": "markdown",
   "id": "f22670e9",
   "metadata": {},
   "source": [
    "# Q2: Which player has scored the most goals as a substitution"
   ]
  },
  {
   "cell_type": "code",
   "execution_count": 11,
   "id": "ae361292",
   "metadata": {},
   "outputs": [
    {
     "data": {
      "text/html": [
       "<div>\n",
       "<style scoped>\n",
       "    .dataframe tbody tr th:only-of-type {\n",
       "        vertical-align: middle;\n",
       "    }\n",
       "\n",
       "    .dataframe tbody tr th {\n",
       "        vertical-align: top;\n",
       "    }\n",
       "\n",
       "    .dataframe thead th {\n",
       "        text-align: right;\n",
       "    }\n",
       "</style>\n",
       "<table border=\"1\" class=\"dataframe\">\n",
       "  <thead>\n",
       "    <tr style=\"text-align: right;\">\n",
       "      <th></th>\n",
       "      <th>Country</th>\n",
       "      <th>League</th>\n",
       "      <th>Club</th>\n",
       "      <th>Matches_Played</th>\n",
       "      <th>Substitution</th>\n",
       "      <th>Mins</th>\n",
       "      <th>Goals</th>\n",
       "      <th>xG</th>\n",
       "      <th>xG Per Avg Match</th>\n",
       "      <th>Shots</th>\n",
       "      <th>OnTarget</th>\n",
       "      <th>Shots Per Avg Match</th>\n",
       "      <th>On Target Per Avg Match</th>\n",
       "      <th>Year</th>\n",
       "    </tr>\n",
       "    <tr>\n",
       "      <th>Player Names</th>\n",
       "      <th></th>\n",
       "      <th></th>\n",
       "      <th></th>\n",
       "      <th></th>\n",
       "      <th></th>\n",
       "      <th></th>\n",
       "      <th></th>\n",
       "      <th></th>\n",
       "      <th></th>\n",
       "      <th></th>\n",
       "      <th></th>\n",
       "      <th></th>\n",
       "      <th></th>\n",
       "      <th></th>\n",
       "    </tr>\n",
       "  </thead>\n",
       "  <tbody>\n",
       "    <tr>\n",
       "      <th>Abdou Harroui</th>\n",
       "      <td>Netherlands</td>\n",
       "      <td>Eredivisie</td>\n",
       "      <td>(SPR)</td>\n",
       "      <td>10</td>\n",
       "      <td>0</td>\n",
       "      <td>834</td>\n",
       "      <td>4</td>\n",
       "      <td>1.93</td>\n",
       "      <td>0.22</td>\n",
       "      <td>24</td>\n",
       "      <td>13</td>\n",
       "      <td>2.73</td>\n",
       "      <td>1.48</td>\n",
       "      <td>2019</td>\n",
       "    </tr>\n",
       "    <tr>\n",
       "      <th>Adrien Hunou</th>\n",
       "      <td>France</td>\n",
       "      <td>France Ligue 17</td>\n",
       "      <td>(REN)</td>\n",
       "      <td>13</td>\n",
       "      <td>10</td>\n",
       "      <td>1325</td>\n",
       "      <td>8</td>\n",
       "      <td>7.25</td>\n",
       "      <td>0.52</td>\n",
       "      <td>28</td>\n",
       "      <td>15</td>\n",
       "      <td>2.01</td>\n",
       "      <td>1.08</td>\n",
       "      <td>2019</td>\n",
       "    </tr>\n",
       "    <tr>\n",
       "      <th>Adrien Thomasson</th>\n",
       "      <td>France</td>\n",
       "      <td>France Ligue 20</td>\n",
       "      <td>(STR)</td>\n",
       "      <td>24</td>\n",
       "      <td>1</td>\n",
       "      <td>2168</td>\n",
       "      <td>7</td>\n",
       "      <td>5.25</td>\n",
       "      <td>0.23</td>\n",
       "      <td>50</td>\n",
       "      <td>18</td>\n",
       "      <td>2.19</td>\n",
       "      <td>0.79</td>\n",
       "      <td>2019</td>\n",
       "    </tr>\n",
       "    <tr>\n",
       "      <th>Aduriz</th>\n",
       "      <td>Spain</td>\n",
       "      <td>La Liga</td>\n",
       "      <td>0</td>\n",
       "      <td>27</td>\n",
       "      <td>5</td>\n",
       "      <td>2480</td>\n",
       "      <td>16</td>\n",
       "      <td>15.92</td>\n",
       "      <td>0.61</td>\n",
       "      <td>85</td>\n",
       "      <td>45</td>\n",
       "      <td>3.26</td>\n",
       "      <td>1.72</td>\n",
       "      <td>2016</td>\n",
       "    </tr>\n",
       "    <tr>\n",
       "      <th>Alassane Plea</th>\n",
       "      <td>GermanyGermany</td>\n",
       "      <td>BundesligaBundesliga</td>\n",
       "      <td>(BMG)(BMG)</td>\n",
       "      <td>53</td>\n",
       "      <td>8</td>\n",
       "      <td>4865</td>\n",
       "      <td>22</td>\n",
       "      <td>22.90</td>\n",
       "      <td>0.90</td>\n",
       "      <td>160</td>\n",
       "      <td>76</td>\n",
       "      <td>6.27</td>\n",
       "      <td>2.97</td>\n",
       "      <td>4037</td>\n",
       "    </tr>\n",
       "    <tr>\n",
       "      <th>...</th>\n",
       "      <td>...</td>\n",
       "      <td>...</td>\n",
       "      <td>...</td>\n",
       "      <td>...</td>\n",
       "      <td>...</td>\n",
       "      <td>...</td>\n",
       "      <td>...</td>\n",
       "      <td>...</td>\n",
       "      <td>...</td>\n",
       "      <td>...</td>\n",
       "      <td>...</td>\n",
       "      <td>...</td>\n",
       "      <td>...</td>\n",
       "      <td>...</td>\n",
       "    </tr>\n",
       "    <tr>\n",
       "      <th>Yeferson Soteldo</th>\n",
       "      <td>Brazil</td>\n",
       "      <td>Campeonato Brasileiro SÃ©rie A</td>\n",
       "      <td>(SAN)</td>\n",
       "      <td>31</td>\n",
       "      <td>1</td>\n",
       "      <td>2883</td>\n",
       "      <td>9</td>\n",
       "      <td>8.80</td>\n",
       "      <td>0.29</td>\n",
       "      <td>68</td>\n",
       "      <td>26</td>\n",
       "      <td>2.24</td>\n",
       "      <td>0.86</td>\n",
       "      <td>2019</td>\n",
       "    </tr>\n",
       "    <tr>\n",
       "      <th>Youssef   En-Nesyri</th>\n",
       "      <td>Spain</td>\n",
       "      <td>La Liga</td>\n",
       "      <td>(SEV)</td>\n",
       "      <td>5</td>\n",
       "      <td>4</td>\n",
       "      <td>465</td>\n",
       "      <td>4</td>\n",
       "      <td>3.33</td>\n",
       "      <td>0.68</td>\n",
       "      <td>14</td>\n",
       "      <td>4</td>\n",
       "      <td>2.86</td>\n",
       "      <td>0.82</td>\n",
       "      <td>2020</td>\n",
       "    </tr>\n",
       "    <tr>\n",
       "      <th>Yussuf Poulsen</th>\n",
       "      <td>Germany</td>\n",
       "      <td>Bundesliga</td>\n",
       "      <td>(RBL)</td>\n",
       "      <td>27</td>\n",
       "      <td>4</td>\n",
       "      <td>2556</td>\n",
       "      <td>15</td>\n",
       "      <td>10.76</td>\n",
       "      <td>0.40</td>\n",
       "      <td>65</td>\n",
       "      <td>27</td>\n",
       "      <td>2.42</td>\n",
       "      <td>1.00</td>\n",
       "      <td>2018</td>\n",
       "    </tr>\n",
       "    <tr>\n",
       "      <th>Zlatan Ibrahimovic</th>\n",
       "      <td>EnglandUSAItaly</td>\n",
       "      <td>Premier LeagueMLSSerie A</td>\n",
       "      <td>(ACM)(ACM)(ACM)</td>\n",
       "      <td>64</td>\n",
       "      <td>1</td>\n",
       "      <td>6133</td>\n",
       "      <td>58</td>\n",
       "      <td>46.38</td>\n",
       "      <td>2.65</td>\n",
       "      <td>309</td>\n",
       "      <td>128</td>\n",
       "      <td>15.25</td>\n",
       "      <td>6.51</td>\n",
       "      <td>6055</td>\n",
       "    </tr>\n",
       "    <tr>\n",
       "      <th>Ãngel Di Maria</th>\n",
       "      <td>France</td>\n",
       "      <td>France Ligue 18</td>\n",
       "      <td>(PSG)</td>\n",
       "      <td>23</td>\n",
       "      <td>3</td>\n",
       "      <td>2106</td>\n",
       "      <td>8</td>\n",
       "      <td>9.98</td>\n",
       "      <td>0.45</td>\n",
       "      <td>74</td>\n",
       "      <td>24</td>\n",
       "      <td>3.34</td>\n",
       "      <td>1.08</td>\n",
       "      <td>2019</td>\n",
       "    </tr>\n",
       "  </tbody>\n",
       "</table>\n",
       "<p>444 rows × 14 columns</p>\n",
       "</div>"
      ],
      "text/plain": [
       "                             Country                          League  \\\n",
       "Player Names                                                           \n",
       "Abdou Harroui            Netherlands                      Eredivisie   \n",
       "Adrien Hunou                  France                 France Ligue 17   \n",
       "Adrien Thomasson              France                 France Ligue 20   \n",
       "Aduriz                         Spain                         La Liga   \n",
       "Alassane Plea         GermanyGermany            BundesligaBundesliga   \n",
       "...                              ...                             ...   \n",
       "Yeferson Soteldo              Brazil  Campeonato Brasileiro SÃ©rie A   \n",
       "Youssef   En-Nesyri            Spain                         La Liga   \n",
       "Yussuf Poulsen               Germany                      Bundesliga   \n",
       "Zlatan Ibrahimovic   EnglandUSAItaly        Premier LeagueMLSSerie A   \n",
       "Ãngel Di Maria               France                 France Ligue 18   \n",
       "\n",
       "                                Club  Matches_Played  Substitution   Mins  \\\n",
       "Player Names                                                                \n",
       "Abdou Harroui                  (SPR)              10              0   834   \n",
       "Adrien Hunou                   (REN)              13             10  1325   \n",
       "Adrien Thomasson               (STR)              24              1  2168   \n",
       "Aduriz                             0              27              5  2480   \n",
       "Alassane Plea             (BMG)(BMG)              53              8  4865   \n",
       "...                              ...             ...            ...   ...   \n",
       "Yeferson Soteldo               (SAN)              31              1  2883   \n",
       "Youssef   En-Nesyri            (SEV)               5              4   465   \n",
       "Yussuf Poulsen                 (RBL)              27              4  2556   \n",
       "Zlatan Ibrahimovic   (ACM)(ACM)(ACM)              64              1  6133   \n",
       "Ãngel Di Maria                (PSG)              23              3  2106   \n",
       "\n",
       "                     Goals     xG  xG Per Avg Match  Shots  OnTarget  \\\n",
       "Player Names                                                           \n",
       "Abdou Harroui            4   1.93              0.22     24        13   \n",
       "Adrien Hunou             8   7.25              0.52     28        15   \n",
       "Adrien Thomasson         7   5.25              0.23     50        18   \n",
       "Aduriz                  16  15.92              0.61     85        45   \n",
       "Alassane Plea           22  22.90              0.90    160        76   \n",
       "...                    ...    ...               ...    ...       ...   \n",
       "Yeferson Soteldo         9   8.80              0.29     68        26   \n",
       "Youssef   En-Nesyri      4   3.33              0.68     14         4   \n",
       "Yussuf Poulsen          15  10.76              0.40     65        27   \n",
       "Zlatan Ibrahimovic      58  46.38              2.65    309       128   \n",
       "Ãngel Di Maria          8   9.98              0.45     74        24   \n",
       "\n",
       "                     Shots Per Avg Match  On Target Per Avg Match  Year  \n",
       "Player Names                                                             \n",
       "Abdou Harroui                       2.73                     1.48  2019  \n",
       "Adrien Hunou                        2.01                     1.08  2019  \n",
       "Adrien Thomasson                    2.19                     0.79  2019  \n",
       "Aduriz                              3.26                     1.72  2016  \n",
       "Alassane Plea                       6.27                     2.97  4037  \n",
       "...                                  ...                      ...   ...  \n",
       "Yeferson Soteldo                    2.24                     0.86  2019  \n",
       "Youssef   En-Nesyri                 2.86                     0.82  2020  \n",
       "Yussuf Poulsen                      2.42                     1.00  2018  \n",
       "Zlatan Ibrahimovic                 15.25                     6.51  6055  \n",
       "Ãngel Di Maria                     3.34                     1.08  2019  \n",
       "\n",
       "[444 rows x 14 columns]"
      ]
     },
     "execution_count": 11,
     "metadata": {},
     "output_type": "execute_result"
    }
   ],
   "source": [
    "Players = df.groupby('Player Names')\n",
    "Players.sum()"
   ]
  },
  {
   "cell_type": "code",
   "execution_count": null,
   "id": "47b5c7de",
   "metadata": {},
   "outputs": [],
   "source": []
  },
  {
   "cell_type": "markdown",
   "id": "9ddbd80d",
   "metadata": {},
   "source": [
    "# Q3: Find the top 5 players with the most number of goals scored. Also find the total number of goals scored by them"
   ]
  },
  {
   "cell_type": "code",
   "execution_count": 19,
   "id": "6d27f601",
   "metadata": {},
   "outputs": [],
   "source": [
    "df_player = df.groupby('Player Names')\n",
    "df_tops = df_player['Goals'].agg([np.sum])"
   ]
  },
  {
   "cell_type": "code",
   "execution_count": 24,
   "id": "2795512b",
   "metadata": {},
   "outputs": [
    {
     "data": {
      "text/html": [
       "<div>\n",
       "<style scoped>\n",
       "    .dataframe tbody tr th:only-of-type {\n",
       "        vertical-align: middle;\n",
       "    }\n",
       "\n",
       "    .dataframe tbody tr th {\n",
       "        vertical-align: top;\n",
       "    }\n",
       "\n",
       "    .dataframe thead th {\n",
       "        text-align: right;\n",
       "    }\n",
       "</style>\n",
       "<table border=\"1\" class=\"dataframe\">\n",
       "  <thead>\n",
       "    <tr style=\"text-align: right;\">\n",
       "      <th></th>\n",
       "      <th>sum</th>\n",
       "    </tr>\n",
       "    <tr>\n",
       "      <th>Player Names</th>\n",
       "      <th></th>\n",
       "    </tr>\n",
       "  </thead>\n",
       "  <tbody>\n",
       "    <tr>\n",
       "      <th>Lionel Messi</th>\n",
       "      <td>135</td>\n",
       "    </tr>\n",
       "    <tr>\n",
       "      <th>Cristiano Ronaldo</th>\n",
       "      <td>128</td>\n",
       "    </tr>\n",
       "    <tr>\n",
       "      <th>Robert Lewandowski</th>\n",
       "      <td>127</td>\n",
       "    </tr>\n",
       "    <tr>\n",
       "      <th>Ciro Immobile</th>\n",
       "      <td>107</td>\n",
       "    </tr>\n",
       "    <tr>\n",
       "      <th>Luis Suarez</th>\n",
       "      <td>95</td>\n",
       "    </tr>\n",
       "  </tbody>\n",
       "</table>\n",
       "</div>"
      ],
      "text/plain": [
       "                    sum\n",
       "Player Names           \n",
       "Lionel Messi        135\n",
       "Cristiano Ronaldo   128\n",
       "Robert Lewandowski  127\n",
       "Ciro Immobile       107\n",
       "Luis Suarez          95"
      ]
     },
     "execution_count": 24,
     "metadata": {},
     "output_type": "execute_result"
    }
   ],
   "source": [
    "df_top_players = df_tops.sort_values(by='sum', ascending=False)\n",
    "df_top_players.head(5)"
   ]
  },
  {
   "cell_type": "markdown",
   "id": "31e7f2d0",
   "metadata": {},
   "source": [
    "# Q4: What are the top 10 countries with the most number of players in the dataset?"
   ]
  },
  {
   "cell_type": "code",
   "execution_count": null,
   "id": "9909306c",
   "metadata": {},
   "outputs": [],
   "source": []
  },
  {
   "cell_type": "markdown",
   "id": "8c0145b8",
   "metadata": {},
   "source": [
    "# Q5: # Q1. Create a new dataframe after removing the ourliers for Mins Column in the dataset (conside the upper quantile to be 99 percentile and the lower quantile to be 1 percentile.). After that Find the difference in the number of rows?\n",
    "\n",
    "* Difference is df.shape(only rows) - df.shape(rows of filtered data only)"
   ]
  },
  {
   "cell_type": "code",
   "execution_count": null,
   "id": "b2025a47",
   "metadata": {},
   "outputs": [],
   "source": []
  },
  {
   "cell_type": "code",
   "execution_count": null,
   "id": "8d99a560",
   "metadata": {},
   "outputs": [],
   "source": []
  },
  {
   "cell_type": "markdown",
   "id": "0f585553",
   "metadata": {},
   "source": [
    "# Q6: Which top 5 players have scored the maximum number of goals throughout all the years? Display them in descending order"
   ]
  },
  {
   "cell_type": "code",
   "execution_count": 66,
   "id": "e882bf65",
   "metadata": {},
   "outputs": [],
   "source": [
    "df_player = df.groupby('Player Names')\n",
    "df_tops = df_player['Goals'].agg([np.sum])\n",
    "df_top_players = df_tops.sort_values(by='sum', ascending=False)\n",
    "x = df_top_players.head(5)"
   ]
  },
  {
   "cell_type": "code",
   "execution_count": 68,
   "id": "1296a131",
   "metadata": {},
   "outputs": [
    {
     "data": {
      "text/html": [
       "<div>\n",
       "<style scoped>\n",
       "    .dataframe tbody tr th:only-of-type {\n",
       "        vertical-align: middle;\n",
       "    }\n",
       "\n",
       "    .dataframe tbody tr th {\n",
       "        vertical-align: top;\n",
       "    }\n",
       "\n",
       "    .dataframe thead th {\n",
       "        text-align: right;\n",
       "    }\n",
       "</style>\n",
       "<table border=\"1\" class=\"dataframe\">\n",
       "  <thead>\n",
       "    <tr style=\"text-align: right;\">\n",
       "      <th></th>\n",
       "      <th>sum</th>\n",
       "    </tr>\n",
       "    <tr>\n",
       "      <th>Player Names</th>\n",
       "      <th></th>\n",
       "    </tr>\n",
       "  </thead>\n",
       "  <tbody>\n",
       "    <tr>\n",
       "      <th>Luis Suarez</th>\n",
       "      <td>95</td>\n",
       "    </tr>\n",
       "    <tr>\n",
       "      <th>Ciro Immobile</th>\n",
       "      <td>107</td>\n",
       "    </tr>\n",
       "    <tr>\n",
       "      <th>Robert Lewandowski</th>\n",
       "      <td>127</td>\n",
       "    </tr>\n",
       "    <tr>\n",
       "      <th>Cristiano Ronaldo</th>\n",
       "      <td>128</td>\n",
       "    </tr>\n",
       "    <tr>\n",
       "      <th>Lionel Messi</th>\n",
       "      <td>135</td>\n",
       "    </tr>\n",
       "  </tbody>\n",
       "</table>\n",
       "</div>"
      ],
      "text/plain": [
       "                    sum\n",
       "Player Names           \n",
       "Luis Suarez          95\n",
       "Ciro Immobile       107\n",
       "Robert Lewandowski  127\n",
       "Cristiano Ronaldo   128\n",
       "Lionel Messi        135"
      ]
     },
     "execution_count": 68,
     "metadata": {},
     "output_type": "execute_result"
    }
   ],
   "source": [
    "x.sort_values(by = 'sum', ascending = True)"
   ]
  },
  {
   "cell_type": "markdown",
   "id": "bdeed0f8",
   "metadata": {},
   "source": [
    "# Q7. Using Bar Plot show in which year has Cristiano Ronaldo scored the most number of goals?"
   ]
  },
  {
   "cell_type": "code",
   "execution_count": 83,
   "id": "85790f26",
   "metadata": {},
   "outputs": [],
   "source": [
    "df_player = df.groupby(['Player Names','Year'])"
   ]
  },
  {
   "cell_type": "code",
   "execution_count": 86,
   "id": "f472dd34",
   "metadata": {},
   "outputs": [],
   "source": [
    "df_player = df_player['Goals'].agg([np.sum])"
   ]
  },
  {
   "cell_type": "code",
   "execution_count": 90,
   "id": "e51d53ce",
   "metadata": {},
   "outputs": [],
   "source": [
    "ronaldo_data = df[df['Player Names'] == 'Cristiano Ronaldo']"
   ]
  },
  {
   "cell_type": "code",
   "execution_count": 92,
   "id": "d14396e1",
   "metadata": {},
   "outputs": [
    {
     "data": {
      "text/plain": [
       "<BarContainer object of 5 artists>"
      ]
     },
     "execution_count": 92,
     "metadata": {},
     "output_type": "execute_result"
    },
    {
     "data": {
      "image/png": "[encoded data removed]",
      "text/plain": [
       "<Figure size 640x480 with 1 Axes>"
      ]
     },
     "metadata": {},
     "output_type": "display_data"
    }
   ],
   "source": [
    "plt.bar(ronaldo_data['Year'], ronaldo_data['Goals'])"
   ]
  },
  {
   "cell_type": "raw",
   "id": "1be0d9f8",
   "metadata": {},
   "source": [
    "df_player.plot(x='Year', y='sum', kind='bar', legend=False)"
   ]
  },
  {
   "cell_type": "markdown",
   "id": "219298ee",
   "metadata": {},
   "source": [
    "# Q8. In the year 2019 who has more Goals between Ronaldo and Messi? \n",
    "- First print them normally \n",
    "- Display the comparison using a bar plot"
   ]
  },
  {
   "cell_type": "code",
   "execution_count": 93,
   "id": "23e9213d",
   "metadata": {},
   "outputs": [],
   "source": [
    "ronaldo_data = df[df['Player Names'] == 'Cristiano Ronaldo']"
   ]
  },
  {
   "cell_type": "code",
   "execution_count": 102,
   "id": "5c417e25",
   "metadata": {},
   "outputs": [],
   "source": [
    "ronaldo_Goals = ronaldo_data['Goals'].agg([np.sum])"
   ]
  },
  {
   "cell_type": "code",
   "execution_count": 98,
   "id": "b760360b",
   "metadata": {},
   "outputs": [],
   "source": [
    "messi_data = df[df['Player Names'] =='Lionel Messi']"
   ]
  },
  {
   "cell_type": "code",
   "execution_count": 99,
   "id": "d5510931",
   "metadata": {},
   "outputs": [],
   "source": [
    "messi_Goals = messi_data['Goals'].agg([np.sum])"
   ]
  },
  {
   "cell_type": "code",
   "execution_count": 100,
   "id": "4f04de6e",
   "metadata": {},
   "outputs": [
    {
     "data": {
      "text/plain": [
       "sum    135\n",
       "Name: Goals, dtype: int64"
      ]
     },
     "execution_count": 100,
     "metadata": {},
     "output_type": "execute_result"
    }
   ],
   "source": [
    "messi_Goals"
   ]
  },
  {
   "cell_type": "code",
   "execution_count": 106,
   "id": "dc321b65",
   "metadata": {},
   "outputs": [
    {
     "data": {
      "text/plain": [
       "<BarContainer object of 660 artists>"
      ]
     },
     "execution_count": 106,
     "metadata": {},
     "output_type": "execute_result"
    },
    {
     "data": {
      "image/png": "[encoded data removed]",
      "text/plain": [
       "<Figure size 640x480 with 1 Axes>"
      ]
     },
     "metadata": {},
     "output_type": "display_data"
    }
   ],
   "source": [
    "plt.bar(df['Year'],ronaldo_Goals, messi_Goals)"
   ]
  },
  {
   "cell_type": "code",
   "execution_count": 103,
   "id": "4c207cc7",
   "metadata": {},
   "outputs": [],
   "source": [
    "diff = ronaldo_Goals-messi_Goals"
   ]
  },
  {
   "cell_type": "code",
   "execution_count": 104,
   "id": "fcdc17e3",
   "metadata": {},
   "outputs": [
    {
     "data": {
      "text/plain": [
       "sum   -7\n",
       "Name: Goals, dtype: int64"
      ]
     },
     "execution_count": 104,
     "metadata": {},
     "output_type": "execute_result"
    }
   ],
   "source": [
    "diff"
   ]
  },
  {
   "cell_type": "markdown",
   "id": "c3e2f5d8",
   "metadata": {},
   "source": [
    "# Q9: Using Pie Chart show the amount of data various Countries are containing in this dataset(use the Country Columns Display the percentage of data as well in the pie chart"
   ]
  },
  {
   "cell_type": "code",
   "execution_count": 110,
   "id": "7d234400",
   "metadata": {},
   "outputs": [],
   "source": [
    "df_country = df['Country'].value_counts()"
   ]
  },
  {
   "cell_type": "code",
   "execution_count": 119,
   "id": "23bb15e5",
   "metadata": {},
   "outputs": [
    {
     "data": {
      "image/png": "[encoded data removed]",
      "text/plain": [
       "<Figure size 640x480 with 1 Axes>"
      ]
     },
     "metadata": {},
     "output_type": "display_data"
    }
   ],
   "source": [
    "plt.pie(df_country,labels = df_country)\n",
    "plt.show()"
   ]
  },
  {
   "cell_type": "markdown",
   "id": "0d8f8d37",
   "metadata": {},
   "source": [
    "# Q10: Display a Heatmap  to show the correlation between the columns in the dataset. The heatmap should have the value of the correlation printed within the boxes."
   ]
  },
  {
   "cell_type": "code",
   "execution_count": 123,
   "id": "61e46fe6",
   "metadata": {},
   "outputs": [
    {
     "ename": "ValueError",
     "evalue": "could not convert string to float: 'Spain'",
     "output_type": "error",
     "traceback": [
      "\u001b[1;31m---------------------------------------------------------------------------\u001b[0m",
      "\u001b[1;31mValueError\u001b[0m                                Traceback (most recent call last)",
      "Cell \u001b[1;32mIn[123], line 1\u001b[0m\n\u001b[1;32m----> 1\u001b[0m x \u001b[38;5;241m=\u001b[39m df\u001b[38;5;241m.\u001b[39mcorr()\n\u001b[0;32m      2\u001b[0m plt\u001b[38;5;241m.\u001b[39mfigure(figsize\u001b[38;5;241m=\u001b[39m(\u001b[38;5;241m8\u001b[39m, \u001b[38;5;241m6\u001b[39m))\n\u001b[0;32m      3\u001b[0m sns\u001b[38;5;241m.\u001b[39mheatmap(correlation_matrix, annot\u001b[38;5;241m=\u001b[39m\u001b[38;5;28;01mTrue\u001b[39;00m, cmap\u001b[38;5;241m=\u001b[39m\u001b[38;5;124m'\u001b[39m\u001b[38;5;124mcoolwarm\u001b[39m\u001b[38;5;124m'\u001b[39m, fmt\u001b[38;5;241m=\u001b[39m\u001b[38;5;124m\"\u001b[39m\u001b[38;5;124m.2f\u001b[39m\u001b[38;5;124m\"\u001b[39m, linewidths\u001b[38;5;241m=\u001b[39m\u001b[38;5;241m.5\u001b[39m)\n",
      "File \u001b[1;32m~\\anaconda3\\Lib\\site-packages\\pandas\\core\\frame.py:10054\u001b[0m, in \u001b[0;36mDataFrame.corr\u001b[1;34m(self, method, min_periods, numeric_only)\u001b[0m\n\u001b[0;32m  10052\u001b[0m cols \u001b[38;5;241m=\u001b[39m data\u001b[38;5;241m.\u001b[39mcolumns\n\u001b[0;32m  10053\u001b[0m idx \u001b[38;5;241m=\u001b[39m cols\u001b[38;5;241m.\u001b[39mcopy()\n\u001b[1;32m> 10054\u001b[0m mat \u001b[38;5;241m=\u001b[39m data\u001b[38;5;241m.\u001b[39mto_numpy(dtype\u001b[38;5;241m=\u001b[39m\u001b[38;5;28mfloat\u001b[39m, na_value\u001b[38;5;241m=\u001b[39mnp\u001b[38;5;241m.\u001b[39mnan, copy\u001b[38;5;241m=\u001b[39m\u001b[38;5;28;01mFalse\u001b[39;00m)\n\u001b[0;32m  10056\u001b[0m \u001b[38;5;28;01mif\u001b[39;00m method \u001b[38;5;241m==\u001b[39m \u001b[38;5;124m\"\u001b[39m\u001b[38;5;124mpearson\u001b[39m\u001b[38;5;124m\"\u001b[39m:\n\u001b[0;32m  10057\u001b[0m     correl \u001b[38;5;241m=\u001b[39m libalgos\u001b[38;5;241m.\u001b[39mnancorr(mat, minp\u001b[38;5;241m=\u001b[39mmin_periods)\n",
      "File \u001b[1;32m~\\anaconda3\\Lib\\site-packages\\pandas\\core\\frame.py:1838\u001b[0m, in \u001b[0;36mDataFrame.to_numpy\u001b[1;34m(self, dtype, copy, na_value)\u001b[0m\n\u001b[0;32m   1836\u001b[0m \u001b[38;5;28;01mif\u001b[39;00m dtype \u001b[38;5;129;01mis\u001b[39;00m \u001b[38;5;129;01mnot\u001b[39;00m \u001b[38;5;28;01mNone\u001b[39;00m:\n\u001b[0;32m   1837\u001b[0m     dtype \u001b[38;5;241m=\u001b[39m np\u001b[38;5;241m.\u001b[39mdtype(dtype)\n\u001b[1;32m-> 1838\u001b[0m result \u001b[38;5;241m=\u001b[39m \u001b[38;5;28mself\u001b[39m\u001b[38;5;241m.\u001b[39m_mgr\u001b[38;5;241m.\u001b[39mas_array(dtype\u001b[38;5;241m=\u001b[39mdtype, copy\u001b[38;5;241m=\u001b[39mcopy, na_value\u001b[38;5;241m=\u001b[39mna_value)\n\u001b[0;32m   1839\u001b[0m \u001b[38;5;28;01mif\u001b[39;00m result\u001b[38;5;241m.\u001b[39mdtype \u001b[38;5;129;01mis\u001b[39;00m \u001b[38;5;129;01mnot\u001b[39;00m dtype:\n\u001b[0;32m   1840\u001b[0m     result \u001b[38;5;241m=\u001b[39m np\u001b[38;5;241m.\u001b[39marray(result, dtype\u001b[38;5;241m=\u001b[39mdtype, copy\u001b[38;5;241m=\u001b[39m\u001b[38;5;28;01mFalse\u001b[39;00m)\n",
      "File \u001b[1;32m~\\anaconda3\\Lib\\site-packages\\pandas\\core\\internals\\managers.py:1732\u001b[0m, in \u001b[0;36mBlockManager.as_array\u001b[1;34m(self, dtype, copy, na_value)\u001b[0m\n\u001b[0;32m   1730\u001b[0m         arr\u001b[38;5;241m.\u001b[39mflags\u001b[38;5;241m.\u001b[39mwriteable \u001b[38;5;241m=\u001b[39m \u001b[38;5;28;01mFalse\u001b[39;00m\n\u001b[0;32m   1731\u001b[0m \u001b[38;5;28;01melse\u001b[39;00m:\n\u001b[1;32m-> 1732\u001b[0m     arr \u001b[38;5;241m=\u001b[39m \u001b[38;5;28mself\u001b[39m\u001b[38;5;241m.\u001b[39m_interleave(dtype\u001b[38;5;241m=\u001b[39mdtype, na_value\u001b[38;5;241m=\u001b[39mna_value)\n\u001b[0;32m   1733\u001b[0m     \u001b[38;5;66;03m# The underlying data was copied within _interleave, so no need\u001b[39;00m\n\u001b[0;32m   1734\u001b[0m     \u001b[38;5;66;03m# to further copy if copy=True or setting na_value\u001b[39;00m\n\u001b[0;32m   1736\u001b[0m \u001b[38;5;28;01mif\u001b[39;00m na_value \u001b[38;5;129;01mis\u001b[39;00m \u001b[38;5;129;01mnot\u001b[39;00m lib\u001b[38;5;241m.\u001b[39mno_default:\n",
      "File \u001b[1;32m~\\anaconda3\\Lib\\site-packages\\pandas\\core\\internals\\managers.py:1794\u001b[0m, in \u001b[0;36mBlockManager._interleave\u001b[1;34m(self, dtype, na_value)\u001b[0m\n\u001b[0;32m   1792\u001b[0m     \u001b[38;5;28;01melse\u001b[39;00m:\n\u001b[0;32m   1793\u001b[0m         arr \u001b[38;5;241m=\u001b[39m blk\u001b[38;5;241m.\u001b[39mget_values(dtype)\n\u001b[1;32m-> 1794\u001b[0m     result[rl\u001b[38;5;241m.\u001b[39mindexer] \u001b[38;5;241m=\u001b[39m arr\n\u001b[0;32m   1795\u001b[0m     itemmask[rl\u001b[38;5;241m.\u001b[39mindexer] \u001b[38;5;241m=\u001b[39m \u001b[38;5;241m1\u001b[39m\n\u001b[0;32m   1797\u001b[0m \u001b[38;5;28;01mif\u001b[39;00m \u001b[38;5;129;01mnot\u001b[39;00m itemmask\u001b[38;5;241m.\u001b[39mall():\n",
      "\u001b[1;31mValueError\u001b[0m: could not convert string to float: 'Spain'"
     ]
    }
   ],
   "source": [
    "x = df.corr()\n",
    "plt.figure(figsize=(8, 6))\n",
    "sns.heatmap(correlation_matrix, annot=True, cmap='coolwarm', fmt=\".2f\", linewidths=.5)\n",
    "plt.show()"
   ]
  },
  {
   "cell_type": "code",
   "execution_count": null,
   "id": "4a236041",
   "metadata": {},
   "outputs": [],
   "source": []
  },
  {
   "cell_type": "markdown",
   "id": "f87975fb",
   "metadata": {},
   "source": [
    "# Q11: Which Country has the maximum median OnTarget Shots among all the Countries in the year 2020?"
   ]
  },
  {
   "cell_type": "code",
   "execution_count": 126,
   "id": "6663991c",
   "metadata": {},
   "outputs": [],
   "source": [
    "df_year = df[df['Year'] == 2020]"
   ]
  },
  {
   "cell_type": "code",
   "execution_count": 131,
   "id": "310f091a",
   "metadata": {},
   "outputs": [],
   "source": [
    "x = df_year.groupby('Player Names')"
   ]
  },
  {
   "cell_type": "code",
   "execution_count": 139,
   "id": "7a111dd0",
   "metadata": {},
   "outputs": [],
   "source": [
    "a = x['OnTarget'].agg([np.median])"
   ]
  },
  {
   "cell_type": "code",
   "execution_count": 140,
   "id": "2f744e5a",
   "metadata": {},
   "outputs": [
    {
     "data": {
      "text/html": [
       "<div>\n",
       "<style scoped>\n",
       "    .dataframe tbody tr th:only-of-type {\n",
       "        vertical-align: middle;\n",
       "    }\n",
       "\n",
       "    .dataframe tbody tr th {\n",
       "        vertical-align: top;\n",
       "    }\n",
       "\n",
       "    .dataframe thead th {\n",
       "        text-align: right;\n",
       "    }\n",
       "</style>\n",
       "<table border=\"1\" class=\"dataframe\">\n",
       "  <thead>\n",
       "    <tr style=\"text-align: right;\">\n",
       "      <th></th>\n",
       "      <th>median</th>\n",
       "    </tr>\n",
       "    <tr>\n",
       "      <th>Player Names</th>\n",
       "      <th></th>\n",
       "    </tr>\n",
       "  </thead>\n",
       "  <tbody>\n",
       "    <tr>\n",
       "      <th>Alejandro Gomez</th>\n",
       "      <td>11.0</td>\n",
       "    </tr>\n",
       "    <tr>\n",
       "      <th>Alerrandro</th>\n",
       "      <td>11.0</td>\n",
       "    </tr>\n",
       "    <tr>\n",
       "      <th>Alex Pozuelo</th>\n",
       "      <td>25.0</td>\n",
       "    </tr>\n",
       "    <tr>\n",
       "      <th>Amine Gouiri</th>\n",
       "      <td>10.0</td>\n",
       "    </tr>\n",
       "    <tr>\n",
       "      <th>Andre Hahn</th>\n",
       "      <td>6.0</td>\n",
       "    </tr>\n",
       "    <tr>\n",
       "      <th>...</th>\n",
       "      <td>...</td>\n",
       "    </tr>\n",
       "    <tr>\n",
       "      <th>Wilfried Zaha</th>\n",
       "      <td>7.0</td>\n",
       "    </tr>\n",
       "    <tr>\n",
       "      <th>Wissam Ben</th>\n",
       "      <td>8.0</td>\n",
       "    </tr>\n",
       "    <tr>\n",
       "      <th>Wout Weghorst</th>\n",
       "      <td>14.0</td>\n",
       "    </tr>\n",
       "    <tr>\n",
       "      <th>Youssef   En-Nesyri</th>\n",
       "      <td>4.0</td>\n",
       "    </tr>\n",
       "    <tr>\n",
       "      <th>Zlatan Ibrahimovic</th>\n",
       "      <td>16.0</td>\n",
       "    </tr>\n",
       "  </tbody>\n",
       "</table>\n",
       "<p>160 rows × 1 columns</p>\n",
       "</div>"
      ],
      "text/plain": [
       "                     median\n",
       "Player Names               \n",
       "Alejandro Gomez        11.0\n",
       "Alerrandro             11.0\n",
       "Alex Pozuelo           25.0\n",
       "Amine Gouiri           10.0\n",
       "Andre Hahn              6.0\n",
       "...                     ...\n",
       "Wilfried Zaha           7.0\n",
       "Wissam Ben              8.0\n",
       "Wout Weghorst          14.0\n",
       "Youssef   En-Nesyri     4.0\n",
       "Zlatan Ibrahimovic     16.0\n",
       "\n",
       "[160 rows x 1 columns]"
      ]
     },
     "execution_count": 140,
     "metadata": {},
     "output_type": "execute_result"
    }
   ],
   "source": [
    "a"
   ]
  },
  {
   "cell_type": "code",
   "execution_count": 141,
   "id": "c918a0f1",
   "metadata": {},
   "outputs": [
    {
     "data": {
      "text/html": [
       "<div>\n",
       "<style scoped>\n",
       "    .dataframe tbody tr th:only-of-type {\n",
       "        vertical-align: middle;\n",
       "    }\n",
       "\n",
       "    .dataframe tbody tr th {\n",
       "        vertical-align: top;\n",
       "    }\n",
       "\n",
       "    .dataframe thead th {\n",
       "        text-align: right;\n",
       "    }\n",
       "</style>\n",
       "<table border=\"1\" class=\"dataframe\">\n",
       "  <thead>\n",
       "    <tr style=\"text-align: right;\">\n",
       "      <th></th>\n",
       "      <th>median</th>\n",
       "    </tr>\n",
       "    <tr>\n",
       "      <th>Player Names</th>\n",
       "      <th></th>\n",
       "    </tr>\n",
       "  </thead>\n",
       "  <tbody>\n",
       "    <tr>\n",
       "      <th>Steven Berghuis</th>\n",
       "      <td>44.0</td>\n",
       "    </tr>\n",
       "    <tr>\n",
       "      <th>Cyriel Dessers</th>\n",
       "      <td>43.0</td>\n",
       "    </tr>\n",
       "    <tr>\n",
       "      <th>Bryan Linssen</th>\n",
       "      <td>39.0</td>\n",
       "    </tr>\n",
       "    <tr>\n",
       "      <th>Oussama Idrissi</th>\n",
       "      <td>34.0</td>\n",
       "    </tr>\n",
       "    <tr>\n",
       "      <th>Diego Rossi</th>\n",
       "      <td>34.0</td>\n",
       "    </tr>\n",
       "    <tr>\n",
       "      <th>...</th>\n",
       "      <td>...</td>\n",
       "    </tr>\n",
       "    <tr>\n",
       "      <th>Jhon Cordoba</th>\n",
       "      <td>5.0</td>\n",
       "    </tr>\n",
       "    <tr>\n",
       "      <th>Portu</th>\n",
       "      <td>4.0</td>\n",
       "    </tr>\n",
       "    <tr>\n",
       "      <th>Esteban Burgos</th>\n",
       "      <td>4.0</td>\n",
       "    </tr>\n",
       "    <tr>\n",
       "      <th>Youssef   En-Nesyri</th>\n",
       "      <td>4.0</td>\n",
       "    </tr>\n",
       "    <tr>\n",
       "      <th>Ellyes Skhiri</th>\n",
       "      <td>3.0</td>\n",
       "    </tr>\n",
       "  </tbody>\n",
       "</table>\n",
       "<p>160 rows × 1 columns</p>\n",
       "</div>"
      ],
      "text/plain": [
       "                     median\n",
       "Player Names               \n",
       "Steven Berghuis        44.0\n",
       "Cyriel Dessers         43.0\n",
       "Bryan Linssen          39.0\n",
       "Oussama Idrissi        34.0\n",
       "Diego Rossi            34.0\n",
       "...                     ...\n",
       "Jhon Cordoba            5.0\n",
       "Portu                   4.0\n",
       "Esteban Burgos          4.0\n",
       "Youssef   En-Nesyri     4.0\n",
       "Ellyes Skhiri           3.0\n",
       "\n",
       "[160 rows x 1 columns]"
      ]
     },
     "execution_count": 141,
     "metadata": {},
     "output_type": "execute_result"
    }
   ],
   "source": [
    "a.sort_values(by='median',ascending=False)"
   ]
  },
  {
   "cell_type": "markdown",
   "id": "5f69be41",
   "metadata": {},
   "source": [
    "# Q12. Who has the best average  Goals per minute?\n",
    "* Consider only those players who have played more than 30 games\n",
    "* Then Find Goals per minute\n",
    "* Find Mean of Goals per minute and sort the values"
   ]
  },
  {
   "cell_type": "code",
   "execution_count": 143,
   "id": "cedf79a7",
   "metadata": {},
   "outputs": [],
   "source": [
    "df_player = df[df['Matches_Played']>30]"
   ]
  },
  {
   "cell_type": "code",
   "execution_count": 156,
   "id": "dc89ed43",
   "metadata": {},
   "outputs": [],
   "source": [
    "x = df_player.groupby('Player Names')"
   ]
  },
  {
   "cell_type": "code",
   "execution_count": 162,
   "id": "06af824a",
   "metadata": {},
   "outputs": [],
   "source": [
    "a= x['Goals'].agg([np.sum])\n",
    "b =x['Mins'].agg([np.sum])"
   ]
  },
  {
   "cell_type": "code",
   "execution_count": 164,
   "id": "c86483cb",
   "metadata": {},
   "outputs": [],
   "source": [
    "c = a['sum']/b['sum']"
   ]
  },
  {
   "cell_type": "code",
   "execution_count": 167,
   "id": "16583487",
   "metadata": {},
   "outputs": [
    {
     "data": {
      "text/plain": [
       "Player Names\n",
       "Alejandro Gomez       0.004928\n",
       "Alejandro Pozuelo     0.004510\n",
       "Alexis Sanchez        0.007090\n",
       "Andone                0.004021\n",
       "Andre                 0.005459\n",
       "                        ...   \n",
       "Wissam Ben Yedder     0.006050\n",
       "Wout Weghorst         0.005554\n",
       "Yago Pikachu          0.003133\n",
       "Yeferson Soteldo      0.003122\n",
       "Zlatan Ibrahimovic    0.010340\n",
       "Name: sum, Length: 130, dtype: float64"
      ]
     },
     "execution_count": 167,
     "metadata": {},
     "output_type": "execute_result"
    }
   ],
   "source": [
    "c"
   ]
  },
  {
   "cell_type": "code",
   "execution_count": 166,
   "id": "a1142235",
   "metadata": {},
   "outputs": [
    {
     "data": {
      "text/plain": [
       "mean    0.005159\n",
       "Name: sum, dtype: float64"
      ]
     },
     "execution_count": 166,
     "metadata": {},
     "output_type": "execute_result"
    }
   ],
   "source": [
    "c.agg([np.mean])"
   ]
  },
  {
   "cell_type": "markdown",
   "id": "7a2ce78e",
   "metadata": {},
   "source": [
    "# Q 13. Which Player has the least and most number of missed shots in the dataset?\n",
    "* Missed Shots=Shots-On Target"
   ]
  },
  {
   "cell_type": "code",
   "execution_count": 74,
   "id": "73508b39",
   "metadata": {},
   "outputs": [],
   "source": [
    "df_player = df.groupby('Player Names')\n",
    "df_shot = df_player['Shots'].agg([np.sum])\n",
    "df_a = df_player['OnTarget'].agg([np.sum])"
   ]
  },
  {
   "cell_type": "code",
   "execution_count": 75,
   "id": "2037d7e2",
   "metadata": {},
   "outputs": [],
   "source": [
    "diff = df_shot-df_a"
   ]
  },
  {
   "cell_type": "code",
   "execution_count": 79,
   "id": "df78492f",
   "metadata": {},
   "outputs": [
    {
     "data": {
      "text/html": [
       "<div>\n",
       "<style scoped>\n",
       "    .dataframe tbody tr th:only-of-type {\n",
       "        vertical-align: middle;\n",
       "    }\n",
       "\n",
       "    .dataframe tbody tr th {\n",
       "        vertical-align: top;\n",
       "    }\n",
       "\n",
       "    .dataframe thead th {\n",
       "        text-align: right;\n",
       "    }\n",
       "</style>\n",
       "<table border=\"1\" class=\"dataframe\">\n",
       "  <thead>\n",
       "    <tr style=\"text-align: right;\">\n",
       "      <th></th>\n",
       "      <th>sum</th>\n",
       "    </tr>\n",
       "    <tr>\n",
       "      <th>Player Names</th>\n",
       "      <th></th>\n",
       "    </tr>\n",
       "  </thead>\n",
       "  <tbody>\n",
       "    <tr>\n",
       "      <th>Cristiano Ronaldo</th>\n",
       "      <td>455</td>\n",
       "    </tr>\n",
       "  </tbody>\n",
       "</table>\n",
       "</div>"
      ],
      "text/plain": [
       "                   sum\n",
       "Player Names          \n",
       "Cristiano Ronaldo  455"
      ]
     },
     "execution_count": 79,
     "metadata": {},
     "output_type": "execute_result"
    }
   ],
   "source": [
    "max  = diff.sort_values(by='sum', ascending = False)\n",
    "max.head(1)"
   ]
  },
  {
   "cell_type": "code",
   "execution_count": 80,
   "id": "3a5714fa",
   "metadata": {},
   "outputs": [
    {
     "data": {
      "text/html": [
       "<div>\n",
       "<style scoped>\n",
       "    .dataframe tbody tr th:only-of-type {\n",
       "        vertical-align: middle;\n",
       "    }\n",
       "\n",
       "    .dataframe tbody tr th {\n",
       "        vertical-align: top;\n",
       "    }\n",
       "\n",
       "    .dataframe thead th {\n",
       "        text-align: right;\n",
       "    }\n",
       "</style>\n",
       "<table border=\"1\" class=\"dataframe\">\n",
       "  <thead>\n",
       "    <tr style=\"text-align: right;\">\n",
       "      <th></th>\n",
       "      <th>sum</th>\n",
       "    </tr>\n",
       "    <tr>\n",
       "      <th>Player Names</th>\n",
       "      <th></th>\n",
       "    </tr>\n",
       "  </thead>\n",
       "  <tbody>\n",
       "    <tr>\n",
       "      <th>Esteban Burgos</th>\n",
       "      <td>1</td>\n",
       "    </tr>\n",
       "  </tbody>\n",
       "</table>\n",
       "</div>"
      ],
      "text/plain": [
       "                sum\n",
       "Player Names       \n",
       "Esteban Burgos    1"
      ]
     },
     "execution_count": 80,
     "metadata": {},
     "output_type": "execute_result"
    }
   ],
   "source": [
    "min  = diff.sort_values(by='sum', ascending = True)\n",
    "min.head(1)"
   ]
  },
  {
   "cell_type": "markdown",
   "id": "f66c59df",
   "metadata": {},
   "source": [
    "# Q14: How many countries have had players who played more than 35 matches? Create a bar plot to display the count for each country."
   ]
  },
  {
   "cell_type": "code",
   "execution_count": 177,
   "id": "e7d9277b",
   "metadata": {},
   "outputs": [],
   "source": [
    "df_player = df[df['Matches_Played']>35]"
   ]
  },
  {
   "cell_type": "code",
   "execution_count": null,
   "id": "107fad8b",
   "metadata": {},
   "outputs": [],
   "source": []
  },
  {
   "cell_type": "code",
   "execution_count": 178,
   "id": "889ba941",
   "metadata": {},
   "outputs": [],
   "source": [
    "Country_counts = df_player['Country'].value_counts()"
   ]
  },
  {
   "cell_type": "code",
   "execution_count": 179,
   "id": "0e5c5e05",
   "metadata": {},
   "outputs": [
    {
     "data": {
      "text/plain": [
       "Country\n",
       "England    11\n",
       "Spain       9\n",
       "Italy       9\n",
       "France      4\n",
       "Brazil      1\n",
       "Name: count, dtype: int64"
      ]
     },
     "execution_count": 179,
     "metadata": {},
     "output_type": "execute_result"
    }
   ],
   "source": [
    "Country_counts"
   ]
  },
  {
   "cell_type": "code",
   "execution_count": 180,
   "id": "079f2f96",
   "metadata": {},
   "outputs": [
    {
     "data": {
      "image/png": "[encoded data removed]",
      "text/plain": [
       "<Figure size 1000x600 with 1 Axes>"
      ]
     },
     "metadata": {},
     "output_type": "display_data"
    }
   ],
   "source": [
    "plt.figure(figsize=(10, 6))\n",
    "Country_counts.plot(kind='bar', color='skyblue')\n",
    "plt.title('Number of Countries with Players > 35 Matches')\n",
    "plt.xlabel('Country')\n",
    "plt.ylabel('Number of Players')\n",
    "plt.show()"
   ]
  },
  {
   "cell_type": "markdown",
   "id": "b496d3ed",
   "metadata": {},
   "source": [
    "# Q15: Draw a Line Chart to show the comparison of the top 5 highest scoring players in the dataset throughout the years(2016-2020)"
   ]
  },
  {
   "cell_type": "code",
   "execution_count": 198,
   "id": "d9a1db61",
   "metadata": {},
   "outputs": [],
   "source": [
    "groups = df.groupby('Player Names')['Goals'].sum()\n"
   ]
  },
  {
   "cell_type": "code",
   "execution_count": 202,
   "id": "a506e56f",
   "metadata": {},
   "outputs": [
    {
     "data": {
      "text/plain": [
       "Player Names\n",
       "Abdou Harroui           4\n",
       "Adrien Hunou            8\n",
       "Adrien Thomasson        7\n",
       "Aduriz                 16\n",
       "Alassane Plea          22\n",
       "                       ..\n",
       "Yeferson Soteldo        9\n",
       "Youssef   En-Nesyri     4\n",
       "Yussuf Poulsen         15\n",
       "Zlatan Ibrahimovic     58\n",
       "Ãngel Di Maria         8\n",
       "Name: Goals, Length: 444, dtype: int64"
      ]
     },
     "execution_count": 202,
     "metadata": {},
     "output_type": "execute_result"
    }
   ],
   "source": [
    "groups"
   ]
  },
  {
   "cell_type": "code",
   "execution_count": 199,
   "id": "f1715c68",
   "metadata": {},
   "outputs": [],
   "source": [
    "x = groups.nlargest(5)"
   ]
  },
  {
   "cell_type": "code",
   "execution_count": 200,
   "id": "138eba3b",
   "metadata": {},
   "outputs": [],
   "source": [
    "y = df[df['Player Names'].isin(x.index)]"
   ]
  },
  {
   "cell_type": "code",
   "execution_count": 201,
   "id": "ea9cfa41",
   "metadata": {},
   "outputs": [
    {
     "data": {
      "image/png": "[encoded data removed]",
      "text/plain": [
       "<Figure size 1000x600 with 1 Axes>"
      ]
     },
     "metadata": {},
     "output_type": "display_data"
    }
   ],
   "source": [
    "plt.figure(figsize=(10, 6))\n",
    "for player in x.index:\n",
    "    a = y[y['Player Names'] == player]\n",
    "    plt.plot(a['Year'], a['Goals'], label=player, marker='o')\n",
    "plt.show()"
   ]
  },
  {
   "cell_type": "code",
   "execution_count": null,
   "id": "0be7fa1d",
   "metadata": {},
   "outputs": [],
   "source": []
  }
 ],
 "metadata": {
  "kernelspec": {
   "display_name": "Python 3 (ipykernel)",
   "language": "python",
   "name": "python3"
  },
  "language_info": {
   "codemirror_mode": {
    "name": "ipython",
    "version": 3
   },
   "file_extension": ".py",
   "mimetype": "text/x-python",
   "name": "python",
   "nbconvert_exporter": "python",
   "pygments_lexer": "ipython3",
   "version": "3.11.5"
  }
 },
 "nbformat": 4,
 "nbformat_minor": 5
}
